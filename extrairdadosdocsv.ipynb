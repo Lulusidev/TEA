{
 "cells": [
  {
   "cell_type": "markdown",
   "metadata": {},
   "source": [
    "#  Import and def functions"
   ]
  },
  {
   "cell_type": "code",
   "execution_count": 1,
   "metadata": {},
   "outputs": [],
   "source": [
    "import pandas as pd\n",
    "from python_calamine import CalamineWorkbook\n",
    "import numbers\n",
    "import os\n",
    "import glob"
   ]
  },
  {
   "cell_type": "code",
   "execution_count": 2,
   "metadata": {},
   "outputs": [],
   "source": [
    "def extract_year(filename):\n",
    "    for part in filename.split('/'):\n",
    "        if part.isdigit() and len(part) == 4:\n",
    "            return part\n",
    "    return ''.join(filter(str.isdigit, filename))[-4:]"
   ]
  },
  {
   "cell_type": "code",
   "execution_count": 3,
   "metadata": {},
   "outputs": [],
   "source": [
    "estados = [\n",
    "   'Rondônia', 'Acre', 'Amazonas', 'Roraima', 'Pará', 'Amapá', 'Tocantins', \n",
    "   'Maranhão', 'Piauí', 'Ceará', 'Rio Grande do Norte', 'Paraíba', 'Pernambuco', \n",
    "   'Alagoas', 'Sergipe', 'Bahia', 'Minas Gerais', 'Espírito Santo', 'Rio de Janeiro', \n",
    "   'São Paulo', 'Paraná', 'Santa Catarina', 'Rio Grande do Sul', 'Mato Grosso do Sul', \n",
    "   'Mato Grosso', 'Goiás', 'Distrito Federal'\n",
    "]"
   ]
  },
  {
   "cell_type": "markdown",
   "metadata": {},
   "source": [
    "# TEA estados"
   ]
  },
  {
   "cell_type": "code",
   "execution_count": 8,
   "metadata": {},
   "outputs": [
    {
     "name": "stdout",
     "output_type": "stream",
     "text": [
      "Processing file: data-src/Sinopse_Estatistica_da_Educação_Basica_2014.xlsx for year 2014\n",
      "Processing file: data-src/Sinopse_Estatistica_da_Educação_Basica_2015.xlsx for year 2015\n",
      "Processing file: data-src/Sinopse_Estatistica_da_Educação_Basica_2016.xlsx for year 2016\n",
      "Processing file: data-src/Sinopse_Estatistica_da_Educação_Basica_2017.xlsx for year 2017\n",
      "Processing file: data-src/Sinopse_Estatistica_da_Educação_Basica_2018.xlsx for year 2018\n",
      "Processing file: data-src/Sinopse_Estatistica_da_Educação_Basica_2019.xlsx for year 2019\n",
      "Processing file: data-src/Sinopse_Estatistica_da_Educação_Basica_2020.xlsx for year 2020\n",
      "Processing file: data-src/Sinopse_Estatistica_da_Educação_Basica_2021.xlsx for year 2021\n",
      "Processing file: data-src/Sinopse_Estatistica_da_Educação_Basica_2022.xlsx for year 2022\n",
      "Processing file: data-src/Sinopse_Estatistica_da_Educação_Basica_2023.xlsx for year 2023\n",
      "data-src/Sinopse_Estatistica_da_Educação_Basica_2023.xlsx\n"
     ]
    }
   ],
   "source": [
    "try:\n",
    "    df_existing = pd.read_csv(\"data-out/data-TEA-estados.csv\", index_col='Ano')\n",
    "except FileNotFoundError:\n",
    "    df_existing = pd.DataFrame()\n",
    "\n",
    "# Process all Excel files in data directory\n",
    "for file in sorted(glob.glob(\"data-src/*.xlsx\")):\n",
    "    year = extract_year(file)\n",
    "    \n",
    "    if year in df_existing.columns:\n",
    "        print(f\"Data for year {year} already exists in the dataset.\")\n",
    "        continue\n",
    "\n",
    "    print(f\"Processing file: {file} for year {year}\")\n",
    "    wb = CalamineWorkbook.from_path(file)\n",
    "    \n",
    "    # Define sheet names and columns once\n",
    "    aba_comum = \"1.44\" if year == \"2023\" else \"1.43\"\n",
    "    aba_exclusiva = \"1.50\" if year == \"2023\" else \"1.49\"\n",
    "    columns_to_keep = [\"Regiao\", \"Estado\", \"Municipio\", \"cod_Municipio\", \"TEA\"]\n",
    "\n",
    "    def process_df(data):\n",
    "        df = pd.DataFrame(data[9:], columns=data[7])\n",
    "        df.columns.values[0:4] = [\"Regiao\", \"Estado\", \"Municipio\", \"cod_Municipio\"]\n",
    "        df = df.rename(columns={df.columns[13]: \"TEA\"})\n",
    "        return df[columns_to_keep]\n",
    "\n",
    "    # Process both sheets\n",
    "    df_comum = process_df(wb.get_sheet_by_name(aba_comum).to_python())\n",
    "    df_exclusiva = process_df(wb.get_sheet_by_name(aba_exclusiva).to_python())\n",
    "    \n",
    "    # Convert TEA to numeric, replacing non-numeric values with 0\n",
    "    df_comum['TEA'] = pd.to_numeric(df_comum['TEA'], errors='coerce').fillna(0)\n",
    "    df_exclusiva['TEA'] = pd.to_numeric(df_exclusiva['TEA'], errors='coerce').fillna(0)\n",
    "    \n",
    "    # Group by all columns except TEA and sum the TEA values\n",
    "    group_columns = ['Regiao', 'Estado', 'Municipio', 'cod_Municipio']\n",
    "    df = pd.concat([df_comum, df_exclusiva]).groupby(group_columns, as_index=False)['TEA'].sum()\n",
    "\n",
    "    # Filter states according to the predefined list and remove empty state entries\n",
    "    df_estados = df[df['Estado'].str.strip().isin(estados)]\n",
    "    df_estados = df_estados[df_estados['Estado'].str.strip() != '']\n",
    "    df_estados = df_estados.loc[:, [\"Estado\", \"TEA\"]]\n",
    "    \n",
    "    # Create pivot table with states as index\n",
    "    df_pivot = df_estados.pivot_table(index='Estado', values='TEA', aggfunc='first')\n",
    "    \n",
    "    if df_existing.empty:\n",
    "        df_existing = df_pivot\n",
    "        df_existing.columns = [year]\n",
    "    else:\n",
    "        df_existing[year] = df_pivot['TEA']\n",
    "    \n",
    "    # Export to CSV\n",
    "    df_existing.to_csv(\"data-out/data-TEA-estados.csv\")\n",
    "\n",
    "print(file)"
   ]
  },
  {
   "cell_type": "markdown",
   "metadata": {},
   "source": [
    "# TEA municipios"
   ]
  },
  {
   "cell_type": "code",
   "execution_count": 9,
   "metadata": {},
   "outputs": [
    {
     "name": "stdout",
     "output_type": "stream",
     "text": [
      "Processing file: data-src/Sinopse_Estatistica_da_Educação_Basica_2014.xlsx for year 2014\n",
      "Processing file: data-src/Sinopse_Estatistica_da_Educação_Basica_2015.xlsx for year 2015\n",
      "Processing file: data-src/Sinopse_Estatistica_da_Educação_Basica_2016.xlsx for year 2016\n",
      "Processing file: data-src/Sinopse_Estatistica_da_Educação_Basica_2017.xlsx for year 2017\n",
      "Processing file: data-src/Sinopse_Estatistica_da_Educação_Basica_2018.xlsx for year 2018\n",
      "Processing file: data-src/Sinopse_Estatistica_da_Educação_Basica_2019.xlsx for year 2019\n",
      "Processing file: data-src/Sinopse_Estatistica_da_Educação_Basica_2020.xlsx for year 2020\n",
      "Processing file: data-src/Sinopse_Estatistica_da_Educação_Basica_2021.xlsx for year 2021\n",
      "Processing file: data-src/Sinopse_Estatistica_da_Educação_Basica_2022.xlsx for year 2022\n",
      "Processing file: data-src/Sinopse_Estatistica_da_Educação_Basica_2023.xlsx for year 2023\n",
      "data-src/Sinopse_Estatistica_da_Educação_Basica_2023.xlsx\n"
     ]
    }
   ],
   "source": [
    "try:\n",
    "    df_existing = pd.read_csv(\"data-out/data-TEA-matriculas.csv\", index_col='Ano')\n",
    "except FileNotFoundError:\n",
    "    df_existing = pd.DataFrame()\n",
    "\n",
    "for file in sorted(glob.glob(\"data-src/*.xlsx\")):\n",
    "    year = extract_year(file)\n",
    "    \n",
    "    if year in df_existing.columns:\n",
    "        print(f\"Data for year {year} already exists in the dataset.\")\n",
    "        continue\n",
    "\n",
    "    print(f\"Processing file: {file} for year {year}\")\n",
    "    wb = CalamineWorkbook.from_path(file)\n",
    "    \n",
    "    # Define sheet names and columns once\n",
    "    aba_comum = \"1.44\" if year == \"2023\" else \"1.43\"\n",
    "    aba_exclusiva = \"1.50\" if year == \"2023\" else \"1.49\"\n",
    "    columns_to_keep = [\"Regiao\", \"Estado\", \"Municipio\", \"cod_Municipio\", \"TEA\"]\n",
    "\n",
    "    def process_df(data):\n",
    "        df = pd.DataFrame(data[9:], columns=data[7])\n",
    "        df.columns.values[0:4] = [\"Regiao\", \"Estado\", \"Municipio\", \"cod_Municipio\"]\n",
    "        df = df.rename(columns={df.columns[13]: \"TEA\"})\n",
    "        return df[columns_to_keep]\n",
    "\n",
    "    # Process both sheets\n",
    "    df_comum = process_df(wb.get_sheet_by_name(aba_comum).to_python())\n",
    "    df_exclusiva = process_df(wb.get_sheet_by_name(aba_exclusiva).to_python())\n",
    "    \n",
    "    # Convert TEA to numeric, replacing non-numeric values with 0\n",
    "    df_comum['TEA'] = pd.to_numeric(df_comum['TEA'], errors='coerce').fillna(0)\n",
    "    df_exclusiva['TEA'] = pd.to_numeric(df_exclusiva['TEA'], errors='coerce').fillna(0)\n",
    "    \n",
    "    # Group by all columns except TEA and sum the TEA values\n",
    "    group_columns = ['Regiao', 'Estado', 'Municipio', 'cod_Municipio']\n",
    "    df = pd.concat([df_comum, df_exclusiva]).groupby(group_columns, as_index=False)['TEA'].sum()\n",
    "    \n",
    "    # Filter and set index\n",
    "    df_filtrado = df.set_index(\"Regiao\")\n",
    "    \n",
    "    # Process municipalities\n",
    "    mask = df_filtrado['cod_Municipio'].apply(lambda x: isinstance(x, numbers.Number))\n",
    "    df_municipios = df_filtrado[mask][[\"Municipio\", \"cod_Municipio\", \"TEA\"]]\n",
    "    df_municipios['Município'] = df_municipios.apply(\n",
    "        lambda x: f\"{int(x['cod_Municipio'])} {x['Municipio']}\", axis=1\n",
    "    )\n",
    "    \n",
    "    # Sort by municipality code before setting index\n",
    "    df_municipios['sort_key'] = df_municipios['cod_Municipio'].astype(float)\n",
    "    df_municipios = df_municipios.sort_values('sort_key')\n",
    "    df_municipios = df_municipios.drop('sort_key', axis=1)\n",
    "    \n",
    "    # Final processing and save\n",
    "    df_municipios = (df_municipios[['Município', 'TEA']]\n",
    "                    .drop_duplicates(subset=['Município'])\n",
    "                    .set_index('Município'))\n",
    "    #df_municipios['TEA'] = df_municipios['TEA'].replace({'': '-', '0': '-', 0: '-'})\n",
    "    df_municipios['TEA'] = df_municipios['TEA'].replace({'': '0', '0': 0})\n",
    "\n",
    "    if df_existing.empty:\n",
    "        df_existing = pd.DataFrame(index=df_municipios.index)\n",
    "    \n",
    "    df_existing[year] = df_municipios['TEA']\n",
    "    df_existing.to_csv(\"data-out/data-TEA-matriculas.csv\")\n",
    "\n",
    "print(file)\n"
   ]
  },
  {
   "cell_type": "code",
   "execution_count": 10,
   "metadata": {},
   "outputs": [
    {
     "name": "stdout",
     "output_type": "stream",
     "text": [
      "Processing file: data-src/Sinopse_Estatistica_da_Educação_Basica_2014.xlsx for year 2014\n",
      "Processing file: data-src/Sinopse_Estatistica_da_Educação_Basica_2015.xlsx for year 2015\n",
      "Processing file: data-src/Sinopse_Estatistica_da_Educação_Basica_2016.xlsx for year 2016\n",
      "Processing file: data-src/Sinopse_Estatistica_da_Educação_Basica_2017.xlsx for year 2017\n",
      "Processing file: data-src/Sinopse_Estatistica_da_Educação_Basica_2018.xlsx for year 2018\n",
      "Processing file: data-src/Sinopse_Estatistica_da_Educação_Basica_2019.xlsx for year 2019\n",
      "Processing file: data-src/Sinopse_Estatistica_da_Educação_Basica_2020.xlsx for year 2020\n",
      "Processing file: data-src/Sinopse_Estatistica_da_Educação_Basica_2021.xlsx for year 2021\n",
      "Processing file: data-src/Sinopse_Estatistica_da_Educação_Basica_2022.xlsx for year 2022\n",
      "Processing file: data-src/Sinopse_Estatistica_da_Educação_Basica_2023.xlsx for year 2023\n",
      "data-src/Sinopse_Estatistica_da_Educação_Basica_2023.xlsx\n"
     ]
    }
   ],
   "source": [
    "try:\n",
    "    df_existing = pd.read_csv(\"data-out/data-Total_de_matriculas-matriculas.csv\", index_col='Ano')\n",
    "except FileNotFoundError:\n",
    "    df_existing = pd.DataFrame()\n",
    "\n",
    "for file in sorted(glob.glob(\"data-src/*.xlsx\")):\n",
    "    year = extract_year(file)\n",
    "    \n",
    "    if year in df_existing.columns:\n",
    "        print(f\"Data for year {year} already exists in the dataset.\")\n",
    "        continue\n",
    "\n",
    "    print(f\"Processing file: {file} for year {year}\")\n",
    "    wb = CalamineWorkbook.from_path(file)\n",
    "    \n",
    "    # Define sheet names and columns once\n",
    "    aba_comum = \"Educação Básica 1.1\"\n",
    "    columns_to_keep = [\"Regiao\", \"Estado\", \"Municipio\", \"cod_Municipio\", \"Total_de_matriculas\"]\n",
    "\n",
    "    def process_df_rename(data):\n",
    "        df = pd.DataFrame(data[9:], columns=data[7])\n",
    "        df.columns.values[0]= \"Regiao\"\n",
    "        df.columns.values[1]= \"Estado\" \n",
    "        df.columns.values[2] = \"Municipio\"\n",
    "        df.columns.values[3] = \"cod_Municipio\"\n",
    "        df.columns.values[4] = \"Total_de_matriculas\"\n",
    "        return df[columns_to_keep]\n",
    "\n",
    "    # Process both sheets\n",
    "    df_comum = process_df_rename(wb.get_sheet_by_name(aba_comum).to_python())\n",
    "    \n",
    "    # Convert TEA to numeric, replacing non-numeric values with 0\n",
    "    #df_comum['Total_de_matriculas'] = pd.to_numeric(df_comum['TEA'], errors='coerce').fillna(0)\n",
    "    #df_exclusiva['TEA'] = pd.to_numeric(df_exclusiva['TEA'], errors='coerce').fillna(0)\n",
    "    \n",
    "    # Group by all columns except TEA and sum the TEA values\n",
    "    #group_columns = ['Regiao', 'Estado', 'Municipio', 'cod_Municipio']\n",
    "    #df = pd.concat([df_comum, df_exclusiva]).groupby(group_columns, as_index=False)['TEA'].sum()\n",
    "    \n",
    "    # Filter and set index\n",
    "    df_filtrado = df_comum.set_index(\"Regiao\")\n",
    "    \n",
    "    # Process municipalities\n",
    "    mask = df_filtrado['cod_Municipio'].apply(lambda x: isinstance(x, numbers.Number))\n",
    "    df_municipios = df_filtrado[mask][[\"Municipio\", \"cod_Municipio\", \"Total_de_matriculas\"]]\n",
    "    df_municipios['Município'] = df_municipios.apply(\n",
    "        lambda x: f\"{int(x['cod_Municipio'])} {x['Municipio']}\", axis=1\n",
    "    )\n",
    "    \n",
    "    # Sort by municipality code before setting index\n",
    "    df_municipios['sort_key'] = df_municipios['cod_Municipio'].astype(float)\n",
    "    df_municipios = df_municipios.sort_values('sort_key')\n",
    "    df_municipios = df_municipios.drop('sort_key', axis=1)\n",
    "    \n",
    "    # Final processing and save\n",
    "    df_municipios = (df_municipios[['Município', 'Total_de_matriculas']]\n",
    "                    .drop_duplicates(subset=['Município'])\n",
    "                    .set_index('Município'))\n",
    "    #df_municipios['TEA'] = df_municipios['TEA'].replace({'': '-', '0': '-', 0: '-'})\n",
    "    df_comum['Total_de_matriculas'] = pd.to_numeric(df_comum['Total_de_matriculas'], errors='coerce').fillna(0)\n",
    "    #df_municipios['Total_de_matriculas'] = df_municipios['Total_de_matriculas'].replace({'': '0', '0': 0})\n",
    "\n",
    "    if df_existing.empty:\n",
    "        df_existing = pd.DataFrame(index=df_municipios.index)\n",
    "    \n",
    "    df_existing[year] = df_municipios['Total_de_matriculas']\n",
    "    df_existing.to_csv(\"data-out/data-Total_de_matriculas-matriculas.csv\")\n",
    "\n",
    "print(file)\n"
   ]
  },
  {
   "cell_type": "markdown",
   "metadata": {},
   "source": [
    "# MATRICULAS TOTAIS ESTADOS"
   ]
  },
  {
   "cell_type": "code",
   "execution_count": 11,
   "metadata": {},
   "outputs": [
    {
     "name": "stdout",
     "output_type": "stream",
     "text": [
      "Processing file: data-src/Sinopse_Estatistica_da_Educação_Basica_2014.xlsx for year 2014\n",
      "Processing file: data-src/Sinopse_Estatistica_da_Educação_Basica_2015.xlsx for year 2015\n",
      "Processing file: data-src/Sinopse_Estatistica_da_Educação_Basica_2016.xlsx for year 2016\n",
      "Processing file: data-src/Sinopse_Estatistica_da_Educação_Basica_2017.xlsx for year 2017\n",
      "Processing file: data-src/Sinopse_Estatistica_da_Educação_Basica_2018.xlsx for year 2018\n",
      "Processing file: data-src/Sinopse_Estatistica_da_Educação_Basica_2019.xlsx for year 2019\n",
      "Processing file: data-src/Sinopse_Estatistica_da_Educação_Basica_2020.xlsx for year 2020\n",
      "Processing file: data-src/Sinopse_Estatistica_da_Educação_Basica_2021.xlsx for year 2021\n",
      "Processing file: data-src/Sinopse_Estatistica_da_Educação_Basica_2022.xlsx for year 2022\n",
      "Processing file: data-src/Sinopse_Estatistica_da_Educação_Basica_2023.xlsx for year 2023\n",
      "data-src/Sinopse_Estatistica_da_Educação_Basica_2023.xlsx\n"
     ]
    }
   ],
   "source": [
    "try:\n",
    "    df_existing = pd.read_csv(\"data-out/data-Total_de_matriculas.csv\", index_col='Ano')\n",
    "except FileNotFoundError:\n",
    "    df_existing = pd.DataFrame()\n",
    "\n",
    "# Process all Excel files in data directory\n",
    "for file in sorted(glob.glob(\"data-src/*.xlsx\")):\n",
    "    year = extract_year(file)\n",
    "    \n",
    "    # Skip if year already exists in df_existing\n",
    "    if year in df_existing.index:\n",
    "        print(f\"Data for year {year} already exists in the dataset.\")\n",
    "        continue\n",
    "    # Set sheet name based on year\n",
    "    aba = \"Educação Básica 1.1\"\n",
    "    \n",
    "    print(f\"Processing file: {file} for year {year}\")\n",
    "    wb = CalamineWorkbook.from_path(file)\n",
    "    data = wb.get_sheet_by_name(aba).to_python()\n",
    "    df = pd.DataFrame(data[9:], columns=data[7])\n",
    "    \n",
    "    df.columns.values[0]= \"Regiao\"\n",
    "    df.columns.values[1]= \"Estado\" \n",
    "    df.columns.values[2] = \"Municipio\"\n",
    "    df.columns.values[3] = \"cod_Municipio\"\n",
    "    df.columns.values[4] = \"Total_de_matriculas\"\n",
    "\n",
    "    df = df.loc[:, [\"Regiao\",\"Estado\",\"Municipio\",\"cod_Municipio\",\"Total_de_matriculas\"]]\n",
    "    df = df.set_index(\"Regiao\")\n",
    "    dados_validos = (df[\"Total_de_matriculas\"]!='')\n",
    "    df_filtrado = df[dados_validos]\n",
    "\n",
    "    # Filter states according to the predefined list\n",
    "    df_estados = df_filtrado[df_filtrado['Estado'].str.strip().isin(estados)]\n",
    "    df_estados = df_estados.loc[:, [\"Estado\",\"Total_de_matriculas\"]]\n",
    "    \n",
    "    # Create pivot table with states as index\n",
    "    df_pivot = df_estados.pivot_table(index='Estado', values='Total_de_matriculas', aggfunc='first')\n",
    "    \n",
    "    if df_existing.empty:\n",
    "        df_existing = df_pivot\n",
    "        df_existing.columns = [year]\n",
    "    else:\n",
    "        df_existing[year] = df_pivot['Total_de_matriculas']\n",
    "    \n",
    "    # Export to CSV\n",
    "    df_existing.to_csv(\"data-out/data-Total_de_matriculas-estados.csv\")\n",
    "\n",
    "print(file)"
   ]
  },
  {
   "cell_type": "markdown",
   "metadata": {},
   "source": [
    "# MATRICULAS TOTAIS MUNICIPIOS"
   ]
  },
  {
   "cell_type": "code",
   "execution_count": 17,
   "metadata": {},
   "outputs": [
    {
     "name": "stdout",
     "output_type": "stream",
     "text": [
      "Processing file: data-src\\Sinopse_Estatistica_da_Educação_Basica_2014.xlsx for year 2014\n"
     ]
    },
    {
     "name": "stderr",
     "output_type": "stream",
     "text": [
      "C:\\Users\\Luisgab\\AppData\\Local\\Temp\\ipykernel_8360\\660679555.py:53: FutureWarning: Downcasting behavior in `replace` is deprecated and will be removed in a future version. To retain the old behavior, explicitly call `result.infer_objects(copy=False)`. To opt-in to the future behavior, set `pd.set_option('future.no_silent_downcasting', True)`\n",
      "  df_municipios['Total_de_matriculas'] = pd.to_numeric(df_municipios['Total_de_matriculas'].replace({'': '0', '0': '0'}), errors='coerce').fillna(0)\n"
     ]
    },
    {
     "name": "stdout",
     "output_type": "stream",
     "text": [
      "Processing file: data-src\\Sinopse_Estatistica_da_Educação_Basica_2015.xlsx for year 2015\n"
     ]
    },
    {
     "name": "stderr",
     "output_type": "stream",
     "text": [
      "C:\\Users\\Luisgab\\AppData\\Local\\Temp\\ipykernel_8360\\660679555.py:53: FutureWarning: Downcasting behavior in `replace` is deprecated and will be removed in a future version. To retain the old behavior, explicitly call `result.infer_objects(copy=False)`. To opt-in to the future behavior, set `pd.set_option('future.no_silent_downcasting', True)`\n",
      "  df_municipios['Total_de_matriculas'] = pd.to_numeric(df_municipios['Total_de_matriculas'].replace({'': '0', '0': '0'}), errors='coerce').fillna(0)\n"
     ]
    },
    {
     "name": "stdout",
     "output_type": "stream",
     "text": [
      "Processing file: data-src\\Sinopse_Estatistica_da_Educação_Basica_2016.xlsx for year 2016\n"
     ]
    },
    {
     "name": "stderr",
     "output_type": "stream",
     "text": [
      "C:\\Users\\Luisgab\\AppData\\Local\\Temp\\ipykernel_8360\\660679555.py:53: FutureWarning: Downcasting behavior in `replace` is deprecated and will be removed in a future version. To retain the old behavior, explicitly call `result.infer_objects(copy=False)`. To opt-in to the future behavior, set `pd.set_option('future.no_silent_downcasting', True)`\n",
      "  df_municipios['Total_de_matriculas'] = pd.to_numeric(df_municipios['Total_de_matriculas'].replace({'': '0', '0': '0'}), errors='coerce').fillna(0)\n"
     ]
    },
    {
     "name": "stdout",
     "output_type": "stream",
     "text": [
      "Processing file: data-src\\Sinopse_Estatistica_da_Educação_Basica_2017.xlsx for year 2017\n"
     ]
    },
    {
     "name": "stderr",
     "output_type": "stream",
     "text": [
      "C:\\Users\\Luisgab\\AppData\\Local\\Temp\\ipykernel_8360\\660679555.py:53: FutureWarning: Downcasting behavior in `replace` is deprecated and will be removed in a future version. To retain the old behavior, explicitly call `result.infer_objects(copy=False)`. To opt-in to the future behavior, set `pd.set_option('future.no_silent_downcasting', True)`\n",
      "  df_municipios['Total_de_matriculas'] = pd.to_numeric(df_municipios['Total_de_matriculas'].replace({'': '0', '0': '0'}), errors='coerce').fillna(0)\n"
     ]
    },
    {
     "name": "stdout",
     "output_type": "stream",
     "text": [
      "Processing file: data-src\\Sinopse_Estatistica_da_Educação_Basica_2018.xlsx for year 2018\n"
     ]
    },
    {
     "name": "stderr",
     "output_type": "stream",
     "text": [
      "C:\\Users\\Luisgab\\AppData\\Local\\Temp\\ipykernel_8360\\660679555.py:53: FutureWarning: Downcasting behavior in `replace` is deprecated and will be removed in a future version. To retain the old behavior, explicitly call `result.infer_objects(copy=False)`. To opt-in to the future behavior, set `pd.set_option('future.no_silent_downcasting', True)`\n",
      "  df_municipios['Total_de_matriculas'] = pd.to_numeric(df_municipios['Total_de_matriculas'].replace({'': '0', '0': '0'}), errors='coerce').fillna(0)\n"
     ]
    },
    {
     "name": "stdout",
     "output_type": "stream",
     "text": [
      "Processing file: data-src\\Sinopse_Estatistica_da_Educação_Basica_2019.xlsx for year 2019\n"
     ]
    },
    {
     "name": "stderr",
     "output_type": "stream",
     "text": [
      "C:\\Users\\Luisgab\\AppData\\Local\\Temp\\ipykernel_8360\\660679555.py:53: FutureWarning: Downcasting behavior in `replace` is deprecated and will be removed in a future version. To retain the old behavior, explicitly call `result.infer_objects(copy=False)`. To opt-in to the future behavior, set `pd.set_option('future.no_silent_downcasting', True)`\n",
      "  df_municipios['Total_de_matriculas'] = pd.to_numeric(df_municipios['Total_de_matriculas'].replace({'': '0', '0': '0'}), errors='coerce').fillna(0)\n"
     ]
    },
    {
     "name": "stdout",
     "output_type": "stream",
     "text": [
      "Processing file: data-src\\Sinopse_Estatistica_da_Educação_Basica_2020.xlsx for year 2020\n"
     ]
    },
    {
     "name": "stderr",
     "output_type": "stream",
     "text": [
      "C:\\Users\\Luisgab\\AppData\\Local\\Temp\\ipykernel_8360\\660679555.py:53: FutureWarning: Downcasting behavior in `replace` is deprecated and will be removed in a future version. To retain the old behavior, explicitly call `result.infer_objects(copy=False)`. To opt-in to the future behavior, set `pd.set_option('future.no_silent_downcasting', True)`\n",
      "  df_municipios['Total_de_matriculas'] = pd.to_numeric(df_municipios['Total_de_matriculas'].replace({'': '0', '0': '0'}), errors='coerce').fillna(0)\n"
     ]
    },
    {
     "name": "stdout",
     "output_type": "stream",
     "text": [
      "Processing file: data-src\\Sinopse_Estatistica_da_Educação_Basica_2021.xlsx for year 2021\n"
     ]
    },
    {
     "name": "stderr",
     "output_type": "stream",
     "text": [
      "C:\\Users\\Luisgab\\AppData\\Local\\Temp\\ipykernel_8360\\660679555.py:53: FutureWarning: Downcasting behavior in `replace` is deprecated and will be removed in a future version. To retain the old behavior, explicitly call `result.infer_objects(copy=False)`. To opt-in to the future behavior, set `pd.set_option('future.no_silent_downcasting', True)`\n",
      "  df_municipios['Total_de_matriculas'] = pd.to_numeric(df_municipios['Total_de_matriculas'].replace({'': '0', '0': '0'}), errors='coerce').fillna(0)\n"
     ]
    },
    {
     "name": "stdout",
     "output_type": "stream",
     "text": [
      "Processing file: data-src\\Sinopse_Estatistica_da_Educação_Basica_2022.xlsx for year 2022\n"
     ]
    },
    {
     "name": "stderr",
     "output_type": "stream",
     "text": [
      "C:\\Users\\Luisgab\\AppData\\Local\\Temp\\ipykernel_8360\\660679555.py:53: FutureWarning: Downcasting behavior in `replace` is deprecated and will be removed in a future version. To retain the old behavior, explicitly call `result.infer_objects(copy=False)`. To opt-in to the future behavior, set `pd.set_option('future.no_silent_downcasting', True)`\n",
      "  df_municipios['Total_de_matriculas'] = pd.to_numeric(df_municipios['Total_de_matriculas'].replace({'': '0', '0': '0'}), errors='coerce').fillna(0)\n"
     ]
    },
    {
     "name": "stdout",
     "output_type": "stream",
     "text": [
      "Processing file: data-src\\Sinopse_Estatistica_da_Educação_Basica_2023.xlsx for year 2023\n",
      "data-src\\Sinopse_Estatistica_da_Educação_Basica_2023.xlsx\n"
     ]
    },
    {
     "name": "stderr",
     "output_type": "stream",
     "text": [
      "C:\\Users\\Luisgab\\AppData\\Local\\Temp\\ipykernel_8360\\660679555.py:53: FutureWarning: Downcasting behavior in `replace` is deprecated and will be removed in a future version. To retain the old behavior, explicitly call `result.infer_objects(copy=False)`. To opt-in to the future behavior, set `pd.set_option('future.no_silent_downcasting', True)`\n",
      "  df_municipios['Total_de_matriculas'] = pd.to_numeric(df_municipios['Total_de_matriculas'].replace({'': '0', '0': '0'}), errors='coerce').fillna(0)\n"
     ]
    }
   ],
   "source": [
    "try:\n",
    "    df_existing = pd.read_csv(\"data/data-Total_de_matriculas-municipio.csv\", index_col='Ano')\n",
    "except FileNotFoundError:\n",
    "    df_existing = pd.DataFrame()\n",
    "\n",
    "# Process all Excel files in data directory\n",
    "for file in sorted(glob.glob(\"data-src/*.xlsx\")):\n",
    "    year = extract_year(file)\n",
    "    \n",
    "    # Skip if year already exists in df_existing\n",
    "    if year in df_existing.columns:\n",
    "        print(f\"Data for year {year} already exists in the dataset.\")\n",
    "        continue\n",
    "    # Set sheet name based on year\n",
    "    aba = \"1.11\"\n",
    "    print(f\"Processing file: {file} for year {year}\")\n",
    "    wb = CalamineWorkbook.from_path(file)\n",
    "    data = wb.get_sheet_by_name(aba).to_python()\n",
    "    df = pd.DataFrame(data[9:], columns=data[7])\n",
    "    \n",
    "    df.columns.values[0]= \"Regiao\"\n",
    "    df.columns.values[1]= \"Estado\"\n",
    "    df.columns.values[2] = \"Municipio\"\n",
    "    df.columns.values[3] = \"cod_Municipio\"\n",
    "    df.columns.values[4] = \"Total_de_matriculas\"\n",
    "    \n",
    "    df = df.loc[:, [\"Regiao\",\"Estado\",\"Municipio\",\"cod_Municipio\",\"Total_de_matriculas\"]]\n",
    "    df = df.set_index(\"Regiao\")\n",
    "    dados_validos = (df[\"Total_de_matriculas\"]!='')\n",
    "    df_filtrado = df[dados_validos]\n",
    "\n",
    "    so_estados = df_filtrado[\"cod_Municipio\"].apply(lambda x: isinstance(x, numbers.Number))\n",
    "    df_filtrado_estado = df_filtrado[~so_estados]\n",
    "    df_filtrado_estado = df_filtrado_estado.loc[:, [\"Estado\",\"Total_de_matriculas\"]]\n",
    "\n",
    "    # Filter municipalities for all states\n",
    "    df_municipios = df_filtrado[df_filtrado['cod_Municipio'].apply(lambda x: isinstance(x, numbers.Number))]\n",
    "    df_municipios = df_municipios.loc[:, [\"Municipio\",\"cod_Municipio\",\"Total_de_matriculas\"]]\n",
    "    # Create new column combining code and name\n",
    "    df_municipios['Município'] = df_municipios.apply(lambda x: f\"{int(x['cod_Municipio'])} {x['Municipio']}\", axis=1)\n",
    "    # Drop original columns and keep only TEA and new combined column\n",
    "    df_municipios = df_municipios[['Município', 'Total_de_matriculas']]\n",
    "    # Sort by municipality code (extracted from the combined column)\n",
    "    df_municipios['sort_key'] = df_municipios['Município'].str.extract(r'(\\d+)').astype(int)\n",
    "    df_municipios = df_municipios.sort_values('sort_key')\n",
    "    df_municipios = df_municipios.drop('sort_key', axis=1)\n",
    "    # Remove duplicates before setting index\n",
    "    df_municipios = df_municipios.drop_duplicates(subset=['Município'])\n",
    "    df_municipios = df_municipios.set_index(\"Município\")\n",
    "    # Replace empty or zero values with '-'\n",
    "    #df_municipios['Total_de_matriculas'] = df_municipios['Total_de_matriculas'].replace({'': '-', '0': '-', 0: '-'})\n",
    "    # Convert empty strings and '0' to numeric zeros, then ensure float type\n",
    "    df_municipios['Total_de_matriculas'] = pd.to_numeric(df_municipios['Total_de_matriculas'].replace({'': '0', '0': '0'}), errors='coerce').fillna(0)\n",
    "    \n",
    "    if df_existing.empty:\n",
    "        df_existing = pd.DataFrame(index=df_municipios.index)\n",
    "    \n",
    "    df_existing[year] = df_municipios['Total_de_matriculas']\n",
    "    \n",
    "    # Export to CSV\n",
    "    df_existing.to_csv(\"data-out/data-Total_de_matriculas-municipio.csv\")\n",
    "\n",
    "print(file)"
   ]
  }
 ],
 "metadata": {
  "kernelspec": {
   "display_name": "myenv",
   "language": "python",
   "name": "python3"
  },
  "language_info": {
   "codemirror_mode": {
    "name": "ipython",
    "version": 3
   },
   "file_extension": ".py",
   "mimetype": "text/x-python",
   "name": "python",
   "nbconvert_exporter": "python",
   "pygments_lexer": "ipython3",
   "version": "3.12.3"
  }
 },
 "nbformat": 4,
 "nbformat_minor": 2
}
